{
 "cells": [
  {
   "cell_type": "code",
   "execution_count": 64,
   "id": "310046c6-3bbe-4ef5-8ddb-b7f84c255329",
   "metadata": {},
   "outputs": [
    {
     "name": "stdout",
     "output_type": "stream",
     "text": [
      "0     4\n",
      "1     8\n",
      "2    15\n",
      "3    23\n",
      "4    42\n",
      "dtype: int64\n"
     ]
    }
   ],
   "source": [
    "# import pandas as pd\n",
    "import pandas as pd\n",
    "\n",
    "# Creating empty series\n",
    "ser = pd.Series([4,8,15,23,42])\n",
    "\n",
    "print(ser)"
   ]
  },
  {
   "cell_type": "code",
   "execution_count": 65,
   "id": "e577ce4c-02ba-4c47-ac57-1f30a6d3eb6d",
   "metadata": {},
   "outputs": [],
   "source": [
    "list = ['John Deo'\n",
    ",'Max Ruin',\n",
    "'Arnold',\n",
    "'Krish Star',\n",
    "'John Mike',\n",
    "'Alex John', 'My John Rob', 'Asruid', 'Tes Qry','Big John']"
   ]
  },
  {
   "cell_type": "code",
   "execution_count": 66,
   "id": "d1cf9910-bb9f-432f-abcb-6ab6855f89fa",
   "metadata": {},
   "outputs": [
    {
     "data": {
      "text/plain": [
       "['John Deo',\n",
       " 'Max Ruin',\n",
       " 'Arnold',\n",
       " 'Krish Star',\n",
       " 'John Mike',\n",
       " 'Alex John',\n",
       " 'My John Rob',\n",
       " 'Asruid',\n",
       " 'Tes Qry',\n",
       " 'Big John']"
      ]
     },
     "execution_count": 66,
     "metadata": {},
     "output_type": "execute_result"
    }
   ],
   "source": [
    "list"
   ]
  },
  {
   "cell_type": "code",
   "execution_count": 67,
   "id": "e0dac3a5-7d6a-4ca5-aaa8-11b87e756f4f",
   "metadata": {},
   "outputs": [
    {
     "name": "stdout",
     "output_type": "stream",
     "text": [
      "0       John Deo\n",
      "1       Max Ruin\n",
      "2         Arnold\n",
      "3     Krish Star\n",
      "4      John Mike\n",
      "5      Alex John\n",
      "6    My John Rob\n",
      "7         Asruid\n",
      "8        Tes Qry\n",
      "9       Big John\n",
      "dtype: object\n"
     ]
    }
   ],
   "source": [
    "import pandas as pd\n",
    "ser = pd.Series(list)\n",
    "print(ser)"
   ]
  },
  {
   "cell_type": "code",
   "execution_count": 68,
   "id": "1d689eab-db2d-47b7-9462-f653b602d459",
   "metadata": {},
   "outputs": [],
   "source": [
    "#Question 3rd"
   ]
  },
  {
   "cell_type": "code",
   "execution_count": 116,
   "id": "3431ece3-c01f-4a05-bbef-7b51d83f160a",
   "metadata": {},
   "outputs": [
    {
     "data": {
      "text/html": [
       "<div>\n",
       "<style scoped>\n",
       "    .dataframe tbody tr th:only-of-type {\n",
       "        vertical-align: middle;\n",
       "    }\n",
       "\n",
       "    .dataframe tbody tr th {\n",
       "        vertical-align: top;\n",
       "    }\n",
       "\n",
       "    .dataframe thead th {\n",
       "        text-align: right;\n",
       "    }\n",
       "</style>\n",
       "<table border=\"1\" class=\"dataframe\">\n",
       "  <thead>\n",
       "    <tr style=\"text-align: right;\">\n",
       "      <th></th>\n",
       "      <th>Name</th>\n",
       "      <th>Age</th>\n",
       "      <th>Gender</th>\n",
       "    </tr>\n",
       "  </thead>\n",
       "  <tbody>\n",
       "    <tr>\n",
       "      <th>1</th>\n",
       "      <td>Alice</td>\n",
       "      <td>25</td>\n",
       "      <td>Female</td>\n",
       "    </tr>\n",
       "    <tr>\n",
       "      <th>2</th>\n",
       "      <td>Bob</td>\n",
       "      <td>30</td>\n",
       "      <td>Male</td>\n",
       "    </tr>\n",
       "    <tr>\n",
       "      <th>3</th>\n",
       "      <td>Claire</td>\n",
       "      <td>27</td>\n",
       "      <td>Female</td>\n",
       "    </tr>\n",
       "  </tbody>\n",
       "</table>\n",
       "</div>"
      ],
      "text/plain": [
       "     Name  Age  Gender\n",
       "1   Alice   25  Female\n",
       "2     Bob   30    Male\n",
       "3  Claire   27  Female"
      ]
     },
     "execution_count": 116,
     "metadata": {},
     "output_type": "execute_result"
    }
   ],
   "source": [
    "import pandas as pd\n",
    "\n",
    "data  = {'Name': ['Alice', 'Bob', 'Claire'],\n",
    "      'Age': [25, 30, 27],\n",
    "      'Gender' : ['Female', 'Male', 'Female']}\n",
    "              \n",
    "pd.DataFrame(data, index = [1,2,3])"
   ]
  },
  {
   "cell_type": "code",
   "execution_count": 70,
   "id": "67980162-b2bc-4d6f-955c-43c80b299d23",
   "metadata": {},
   "outputs": [],
   "source": [
    "# What is a DataFrame in pandas?"
   ]
  },
  {
   "cell_type": "code",
   "execution_count": 71,
   "id": "6324cd4e-0872-4ee2-be55-bef369bb3d49",
   "metadata": {},
   "outputs": [
    {
     "data": {
      "text/plain": [
       "'DataFrame is a 2-dimensional labeled data structure with columns of potentially different types. You can think of it like a spreadsheet or SQL table, or a dict of Series objects. It is generally the most commonly used pandas object.'"
      ]
     },
     "execution_count": 71,
     "metadata": {},
     "output_type": "execute_result"
    }
   ],
   "source": [
    "'''DataFrame is a 2-dimensional labeled data structure with columns of potentially different types. You can think of it like a spreadsheet or SQL table, or a dict of Series objects. It is generally the most commonly used pandas object.'''"
   ]
  },
  {
   "cell_type": "code",
   "execution_count": 72,
   "id": "d28472f5-d85e-4d09-b24d-860461cda763",
   "metadata": {},
   "outputs": [
    {
     "ename": "SyntaxError",
     "evalue": "invalid syntax (3823253487.py, line 2)",
     "output_type": "error",
     "traceback": [
      "\u001b[0;36m  Cell \u001b[0;32mIn[72], line 2\u001b[0;36m\u001b[0m\n\u001b[0;31m    If a Series is an analog of a one-dimensional array with flexible indices, a DataFrame is an analog of a two-dimensional array with both flexible row indices and flexible column names.\u001b[0m\n\u001b[0m       ^\u001b[0m\n\u001b[0;31mSyntaxError\u001b[0m\u001b[0;31m:\u001b[0m invalid syntax\n"
     ]
    }
   ],
   "source": [
    "What is the difference between series array and DataFrame?\n",
    "If a Series is an analog of a one-dimensional array with flexible indices, a DataFrame is an analog of a two-dimensional array with both flexible row indices and flexible column names."
   ]
  },
  {
   "cell_type": "code",
   "execution_count": 73,
   "id": "356d39ac-8da8-45df-b3bc-a4fca6160436",
   "metadata": {},
   "outputs": [],
   "source": [
    "#What is the difference between series array and DataFrame?"
   ]
  },
  {
   "cell_type": "code",
   "execution_count": 74,
   "id": "cf82a356-bf8c-458e-b5b1-10b95c63fc28",
   "metadata": {},
   "outputs": [
    {
     "data": {
      "text/plain": [
       "'If a Series is an analog of a one-dimensional array with flexible indices, a DataFrame is an analog of a two-dimensional array with both flexible row indices and flexible column names.'"
      ]
     },
     "execution_count": 74,
     "metadata": {},
     "output_type": "execute_result"
    }
   ],
   "source": [
    "'''If a Series is an analog of a one-dimensional array with flexible indices, a DataFrame is an analog of a two-dimensional array with both flexible row indices and flexible column names.'''"
   ]
  },
  {
   "cell_type": "code",
   "execution_count": 75,
   "id": "fb0593f6-9776-4551-a449-a02e89af05f7",
   "metadata": {},
   "outputs": [
    {
     "name": "stdout",
     "output_type": "stream",
     "text": [
      "0    1000\n",
      "1    2000\n",
      "2    3000\n",
      "3    4000\n",
      "4    5000\n",
      "dtype: int64\n"
     ]
    }
   ],
   "source": [
    "import pandas as pd\n",
    "\n",
    "# Create a Pandas Series from a list\n",
    "data = [1000, 2000, 3000, 4000, 5000]\n",
    "s = pd.Series(data)\n",
    "\n",
    "# Print the Series\n",
    "print(s)"
   ]
  },
  {
   "cell_type": "code",
   "execution_count": 76,
   "id": "e6fa1124-bf75-4937-9084-f4ddcb615500",
   "metadata": {},
   "outputs": [
    {
     "name": "stdout",
     "output_type": "stream",
     "text": [
      "   Column1\n",
      "0     1000\n",
      "1     2000\n",
      "2     3000\n",
      "3     4000\n",
      "4     5000\n"
     ]
    }
   ],
   "source": [
    "import pandas as pd\n",
    "\n",
    "# Create a Pandas Series from a list\n",
    "data = [1000, 2000, 3000, 4000, 5000]\n",
    "s = pd.DataFrame(data, columns = ['Column1'])\n",
    "\n",
    "# Print the Series\n",
    "print(s)"
   ]
  },
  {
   "cell_type": "code",
   "execution_count": 77,
   "id": "1b559ee2-510c-4acf-9707-a8120d2e9702",
   "metadata": {},
   "outputs": [],
   "source": [
    "#What are some common functions you can use to manipulate data in a Pandas DataFrame? Canyou give an example of when you might use one of these functions?"
   ]
  },
  {
   "cell_type": "code",
   "execution_count": 78,
   "id": "8d1b5efb-546c-4f85-9435-4448413047e7",
   "metadata": {},
   "outputs": [],
   "source": [
    "#head() = for the use of head in DataFrame, we can retrive the data top 5. "
   ]
  },
  {
   "cell_type": "code",
   "execution_count": 79,
   "id": "119fd48c-01a0-4ef4-9e44-ba4c8ae397df",
   "metadata": {},
   "outputs": [],
   "source": [
    "#Tail() = For the use of tail in DataFrame, we can retrive and manipulate the data bottom five."
   ]
  },
  {
   "cell_type": "code",
   "execution_count": 81,
   "id": "fa053d48-a1af-40f3-af81-4f343f80d130",
   "metadata": {},
   "outputs": [],
   "source": [
    "#data.columns = retrive the data only name of column list"
   ]
  },
  {
   "cell_type": "code",
   "execution_count": 82,
   "id": "454e8188-35ab-4818-a96d-0fade0fe5102",
   "metadata": {},
   "outputs": [],
   "source": [
    "# data['name']  = if the one of columns name is name, then we can retrive the data only the name which is in the name columns."
   ]
  },
  {
   "cell_type": "code",
   "execution_count": 83,
   "id": "ebc14702-f6cb-452d-a102-9103b82e440c",
   "metadata": {},
   "outputs": [
    {
     "data": {
      "text/plain": [
       "' Q6 = Which of the following is mutable in nature Series, DataFrame, Panel?'"
      ]
     },
     "execution_count": 83,
     "metadata": {},
     "output_type": "execute_result"
    }
   ],
   "source": [
    "''' Q6 = Which of the following is mutable in nature Series, DataFrame, Panel?'''"
   ]
  },
  {
   "cell_type": "code",
   "execution_count": 95,
   "id": "26b8c72a-44f2-43b5-9d5d-367bca61b133",
   "metadata": {},
   "outputs": [
    {
     "data": {
      "text/plain": [
       "'Series: 1D labeled, homogeneous array, sizeimmutable.'"
      ]
     },
     "execution_count": 95,
     "metadata": {},
     "output_type": "execute_result"
    }
   ],
   "source": [
    "'''Series: 1D labeled, homogeneous array, sizeimmutable.'''"
   ]
  },
  {
   "cell_type": "code",
   "execution_count": 96,
   "id": "e32719ee-0c11-4086-af01-89e3e2202614",
   "metadata": {},
   "outputs": [
    {
     "data": {
      "text/plain": [
       "'Data Frames:  General 2D labeled, size-mutable tabular structure with potentially heterogeneously typed columns.'"
      ]
     },
     "execution_count": 96,
     "metadata": {},
     "output_type": "execute_result"
    }
   ],
   "source": [
    "'''Data Frames:  General 2D labeled, size-mutable tabular structure with potentially heterogeneously typed columns.'''"
   ]
  },
  {
   "cell_type": "code",
   "execution_count": 97,
   "id": "46aa7905-2982-4869-9db3-962b4071ebec",
   "metadata": {},
   "outputs": [
    {
     "data": {
      "text/plain": [
       "'Panel: General 3D labeled, size-mutable array.'"
      ]
     },
     "execution_count": 97,
     "metadata": {},
     "output_type": "execute_result"
    }
   ],
   "source": [
    "'''Panel: General 3D labeled, size-mutable array.'''"
   ]
  },
  {
   "cell_type": "code",
   "execution_count": 98,
   "id": "a6cf8b12-9a52-40ae-b300-7959142ff59a",
   "metadata": {},
   "outputs": [],
   "source": [
    "#Create a DataFrame using multiple Series. Explain with an example."
   ]
  },
  {
   "cell_type": "code",
   "execution_count": 127,
   "id": "c162e3dc-0d73-49b4-b9fe-dd6c8cc5cc75",
   "metadata": {},
   "outputs": [
    {
     "name": "stdout",
     "output_type": "stream",
     "text": [
      "     author  article\n",
      "0  Jitender     1000\n",
      "1   Purnima     2000\n",
      "2     Arpit     3000\n",
      "3     Jyoti     4000\n"
     ]
    }
   ],
   "source": [
    "import pandas as pd\n",
    "\n",
    "author = ['Jitender', 'Purnima',\n",
    "          'Arpit', 'Jyoti']\n",
    "ser_author = pd.Series(author)\n",
    "\n",
    "article = [1000, 2000, 3000, 4000]\n",
    "ser_article = pd.Series(article)\n",
    "\n",
    "data = {'author': ser_author, 'article': ser_article}\n",
    "s = pd.DataFrame(data)\n",
    "\n",
    "# Print the Series\n",
    "print(s)"
   ]
  },
  {
   "cell_type": "code",
   "execution_count": null,
   "id": "80d79db2-c8bb-4b7e-9996-b8351cbe7606",
   "metadata": {},
   "outputs": [],
   "source": []
  }
 ],
 "metadata": {
  "kernelspec": {
   "display_name": "Python 3 (ipykernel)",
   "language": "python",
   "name": "python3"
  },
  "language_info": {
   "codemirror_mode": {
    "name": "ipython",
    "version": 3
   },
   "file_extension": ".py",
   "mimetype": "text/x-python",
   "name": "python",
   "nbconvert_exporter": "python",
   "pygments_lexer": "ipython3",
   "version": "3.10.8"
  }
 },
 "nbformat": 4,
 "nbformat_minor": 5
}
